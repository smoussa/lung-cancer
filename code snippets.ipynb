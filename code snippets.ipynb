{
 "cells": [
  {
   "cell_type": "code",
   "execution_count": null,
   "metadata": {
    "collapsed": true
   },
   "outputs": [],
   "source": [
    "g = np.gradient(np.rot90(image[95])[300])"
   ]
  },
  {
   "cell_type": "code",
   "execution_count": null,
   "metadata": {
    "collapsed": true
   },
   "outputs": [],
   "source": [
    "fig = plt.figure(figsize=(10,10))\n",
    "plt.imshow(np.rot90(image[95]), cmap=plt.cm.gray_r)\n",
    "plt.plot(g)\n",
    "plt.plot((0, 512), (300, 300), 'k-')"
   ]
  },
  {
   "cell_type": "code",
   "execution_count": null,
   "metadata": {
    "collapsed": true
   },
   "outputs": [],
   "source": [
    "f, plots = plt.subplots(21, 10, sharex='all', sharey='all', figsize=(10, 21))\n",
    "for i in range(len(new_image)):\n",
    "    plots[i // 10, i % 10].axis('off')\n",
    "    plots[i // 10, i % 10].imshow(new_image[i], cmap=plt.cm.bone)"
   ]
  },
  {
   "cell_type": "code",
   "execution_count": null,
   "metadata": {
    "collapsed": true
   },
   "outputs": [],
   "source": [
    "img_gen = image.ImageDataGenerator()\n",
    "gen = img_gen.flow_from_directory(IMAGES_DIR,\n",
    "                                  target_size=(256, 256),\n",
    "                                  batch_size=32,\n",
    "                                  class_mode=None)"
   ]
  },
  {
   "cell_type": "code",
   "execution_count": null,
   "metadata": {
    "collapsed": true
   },
   "outputs": [],
   "source": [
    "w = model.layers[4].get_weights()[0]\n",
    "test_img = np.reshape(np.squeeze(w), (27*32, 32))"
   ]
  },
  {
   "cell_type": "code",
   "execution_count": null,
   "metadata": {
    "collapsed": true
   },
   "outputs": [],
   "source": [
    "for i in pos_train_ids:\n",
    "    np.savez_compressed(images_dir + 'train/pos/' + i + '.npz', x=preprocess(i), y=np.array([1]))\n",
    "for i in neg_train_ids:\n",
    "    np.savez_compressed(images_dir + 'train/neg/' + i + '.npz', x=preprocess(i), y=np.array([0]))\n",
    "for i in pos_valid_ids:\n",
    "    np.savez_compressed(images_dir + 'valid/pos/' + i + '.npz', x=preprocess(i), y=np.array([1]))\n",
    "for i in neg_valid_ids:\n",
    "    np.savez_compressed(images_dir + 'valid/neg/' + i + '.npz', x=preprocess(i), y=np.array([0]))\n",
    "for i in test_ids:\n",
    "    np.savez_compressed(images_dir + 'test/unknown/' + i + '.npz', x=preprocess(i))"
   ]
  }
 ],
 "metadata": {
  "anaconda-cloud": {},
  "kernelspec": {
   "display_name": "Python [conda root]",
   "language": "python",
   "name": "conda-root-py"
  },
  "language_info": {
   "codemirror_mode": {
    "name": "ipython",
    "version": 3
   },
   "file_extension": ".py",
   "mimetype": "text/x-python",
   "name": "python",
   "nbconvert_exporter": "python",
   "pygments_lexer": "ipython3",
   "version": "3.5.5"
  }
 },
 "nbformat": 4,
 "nbformat_minor": 1
}
