{
 "cells": [
  {
   "cell_type": "markdown",
   "metadata": {
    "deletable": true,
    "editable": true
   },
   "source": [
    "## Define Model"
   ]
  },
  {
   "cell_type": "code",
   "execution_count": null,
   "metadata": {
    "collapsed": false,
    "deletable": true,
    "editable": true
   },
   "outputs": [],
   "source": [
    "from theano.sandbox import cuda\n",
    "\n",
    "from keras.models import Model\n",
    "from keras import layers\n",
    "from keras.layers import Activation\n",
    "from keras.layers import Dense\n",
    "from keras.layers import Input\n",
    "from keras.layers import BatchNormalization\n",
    "from keras.layers import Conv3D\n",
    "from keras.layers import MaxPooling3D\n",
    "from keras.layers import AveragePooling3D\n",
    "from keras.layers import GlobalAveragePooling3D\n",
    "from keras.layers import GlobalMaxPooling3D\n",
    "from keras.engine.topology import get_source_inputs\n",
    "from keras.utils.layer_utils import convert_all_kernels_in_model\n",
    "from keras.utils.data_utils import get_file\n",
    "from keras import backend as K\n",
    "from keras.applications.imagenet_utils import decode_predictions\n",
    "from keras.applications.imagenet_utils import _obtain_input_shape\n",
    "from keras.preprocessing import image as k_image\n",
    "\n",
    "import pandas as pd\n",
    "import numpy as np\n",
    "\n",
    "print(K.image_data_format()) # channels last"
   ]
  },
  {
   "cell_type": "code",
   "execution_count": null,
   "metadata": {
    "collapsed": true,
    "deletable": true,
    "editable": true
   },
   "outputs": [],
   "source": [
    "# https://github.com/fchollet/deep-learning-models/blob/master/inception_v3.py\n",
    "channel_axis = 4\n",
    "\n",
    "def conv_block(x, filters, h, w, z, padding='same', strides=(1, 1, 1)):\n",
    "    x = Conv3D(filters,\n",
    "               (h, w, z), # height, width, z\n",
    "               strides=strides,\n",
    "               padding=padding,\n",
    "               use_bias=False)(x)\n",
    "    x = BatchNormalization(axis=channel_axis, scale=False)(x) # batch norm axis=4 ??\n",
    "    x = Activation('relu')(x)\n",
    "    return x\n",
    "\n",
    "def inception_block(x):\n",
    "    \n",
    "    x = conv_block(x, 32, 3, 3, 3, strides=(2, 2, 2), padding='valid')\n",
    "    x = conv_block(x, 32, 3, 3, 3, padding='valid') # padding same or valid ??\n",
    "    x = conv_block(x, 64, 3, 3, 3)\n",
    "    x = MaxPooling3D((3, 3, 3), strides=(2, 2, 2))(x)\n",
    "\n",
    "    x = conv_block(x, 80, 1, 1, 1, padding='valid')\n",
    "    x = conv_block(x, 192, 3, 3, 3, padding='valid')\n",
    "    x = MaxPooling3D((3, 3, 3), strides=(2, 2, 2))(x)\n",
    "\n",
    "    branch1 = conv_block(x, 64, 1, 1, 1)\n",
    "\n",
    "    branch5 = conv_block(x, 48, 1, 1, 1)\n",
    "    branch5 = conv_block(branch5, 64, 5, 5, 5)\n",
    "\n",
    "    branch3 = conv_block(x, 64, 1, 1, 1)\n",
    "    branch3 = conv_block(branch3, 96, 3, 3, 3)\n",
    "    branch3 = conv_block(branch3, 96, 3, 3, 3)\n",
    "\n",
    "    branch_pool = AveragePooling3D((3, 3, 3), strides=(1, 1, 1), padding='same')(x)\n",
    "    branch_pool = conv_block(branch_pool, 32, 1, 1, 1)\n",
    "    \n",
    "    x = layers.concatenate(\n",
    "            [branch1, branch5, branch3, branch_pool],\n",
    "            axis=channel_axis)\n",
    "    return x"
   ]
  },
  {
   "cell_type": "code",
   "execution_count": null,
   "metadata": {
    "collapsed": false,
    "deletable": true,
    "editable": true
   },
   "outputs": [],
   "source": [
    "model_input = Input(shape=(None, None, None, 1)) # (x, y, z, channels)\n",
    "x = inception_block(model_input)\n",
    "x = GlobalAveragePooling3D(name='avg_pool')(x)\n",
    "model_output = Dense(2, activation='softmax', name='predictions')(x)\n",
    "model = Model(model_input, model_output, name='moses')\n",
    "model.compile(optimizer='rmsprop', # change to Adam() or even Eve() ??\n",
    "              loss='binary_crossentropy',\n",
    "              metrics=['accuracy'])\n",
    "model.summary(line_length=125)"
   ]
  },
  {
   "cell_type": "markdown",
   "metadata": {
    "deletable": true,
    "editable": true
   },
   "source": [
    "## Load training data"
   ]
  },
  {
   "cell_type": "code",
   "execution_count": null,
   "metadata": {
    "collapsed": false,
    "deletable": true,
    "editable": true
   },
   "outputs": [],
   "source": [
    "labels = pd.read_csv('data/stage1_labels.csv')\n",
    "\n",
    "# split ids into train and valid\n",
    "valid_percent = 0.15\n",
    "pos = labels[labels['cancer'] == 1]\n",
    "neg = labels[labels['cancer'] == 0]\n",
    "pos_valid_ids = set(pos.sample(frac=valid_percent)['id'])\n",
    "neg_valid_ids = set(neg.sample(frac=valid_percent)['id'])\n",
    "pos_train_ids = set(pos['id']).difference(pos_valid_ids)\n",
    "neg_train_ids = set(neg['id']).difference(neg_valid_ids)\n",
    "# len(pos_train_ids), len(neg_train_ids), len(pos_valid_ids), len(neg_valid_ids)\n",
    "\n",
    "pos_train_ids = list(pos_train_ids)\n",
    "neg_train_ids = list(neg_train_ids)\n",
    "pos_valid_ids = list(pos_valid_ids)\n",
    "neg_valid_ids = list(neg_valid_ids)\n",
    "np.random.shuffle(pos_train_ids)\n",
    "np.random.shuffle(neg_train_ids)\n",
    "np.random.shuffle(pos_valid_ids)\n",
    "np.random.shuffle(neg_valid_ids)"
   ]
  },
  {
   "cell_type": "code",
   "execution_count": null,
   "metadata": {
    "collapsed": true,
    "deletable": true,
    "editable": true
   },
   "outputs": [],
   "source": [
    "def gen_data(patient_ids):\n",
    "    for patient_id in iter(patient_ids):\n",
    "        yield preprocess(patient_id)"
   ]
  },
  {
   "cell_type": "markdown",
   "metadata": {
    "deletable": true,
    "editable": true
   },
   "source": [
    "## Train"
   ]
  },
  {
   "cell_type": "code",
   "execution_count": null,
   "metadata": {
    "collapsed": true,
    "deletable": true,
    "editable": true
   },
   "outputs": [],
   "source": [
    "# training_data = np.reshape(new_image, (1,) + new_image.shape + (1,)) # where does this go ??\n",
    "\n",
    "model.fit(training_data, np.array([[0, 1]]), batch_size=32, epochs=2)"
   ]
  }
 ],
 "metadata": {
  "kernelspec": {
   "display_name": "Python [conda root]",
   "language": "python",
   "name": "conda-root-py"
  },
  "language_info": {
   "codemirror_mode": {
    "name": "ipython",
    "version": 3
   },
   "file_extension": ".py",
   "mimetype": "text/x-python",
   "name": "python",
   "nbconvert_exporter": "python",
   "pygments_lexer": "ipython3",
   "version": "3.5.3"
  }
 },
 "nbformat": 4,
 "nbformat_minor": 1
}
